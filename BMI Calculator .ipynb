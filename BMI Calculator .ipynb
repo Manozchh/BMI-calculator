{
 "cells": [
  {
   "cell_type": "code",
   "execution_count": 13,
   "id": "5934c1ad",
   "metadata": {},
   "outputs": [
    {
     "name": "stdout",
     "output_type": "stream",
     "text": [
      "Enter your name:rab\n",
      "Enter your weight in kilos:67\n",
      "Enter your height in feet:5.11\n",
      "Your BMI is : 28.67659810825877\n",
      "rab, you are overweight.\n"
     ]
    }
   ],
   "source": [
    "name = input('Enter your name:')\n",
    "weight_in_kilos = int(input('Enter your weight in kilos:'))\n",
    "height_in_feet = float(input('Enter your height in feet:'))\n",
    "\n",
    "weight = weight_in_kilos / 0.45359237\n",
    "height = height_in_feet * 12\n",
    "\n",
    "    \n",
    "BMI = (weight * 730) / (height * height)\n",
    "print('Your BMI is :',BMI)\n",
    "\n",
    "if BMI > 0:\n",
    "    if (BMI < 18.5):\n",
    "        print(name + ', you are underweight.')\n",
    "    elif (BMI <=24.9):\n",
    "        print(name + ', you are normalweight')\n",
    "    elif (BMI < 29.9):\n",
    "        print(name + ', you are overweight.')\n",
    "    elif (BMI < 34.9):\n",
    "        print(name + ', you are obese.')\n",
    "    elif (BMI < 39.9):\n",
    "        print(name + ', you are severly obese.')\n",
    "    else:\n",
    "        print(name + ', you are morbidly obese.')\n",
    "else:\n",
    "    print('Invalid input')"
   ]
  }
 ],
 "metadata": {
  "kernelspec": {
   "display_name": "Python 3 (ipykernel)",
   "language": "python",
   "name": "python3"
  },
  "language_info": {
   "codemirror_mode": {
    "name": "ipython",
    "version": 3
   },
   "file_extension": ".py",
   "mimetype": "text/x-python",
   "name": "python",
   "nbconvert_exporter": "python",
   "pygments_lexer": "ipython3",
   "version": "3.10.0"
  }
 },
 "nbformat": 4,
 "nbformat_minor": 5
}
